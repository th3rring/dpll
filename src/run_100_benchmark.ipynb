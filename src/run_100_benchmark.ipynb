{
 "cells": [
  {
   "cell_type": "code",
   "execution_count": 11,
   "metadata": {},
   "outputs": [],
   "source": [
    "from benchmark import run_benchmark\n",
    "from benchmark import print_results\n",
    "from splitting_methods import *\n",
    "from unit_preference_methods import *\n",
    "import json\n",
    "from datetime import datetime"
   ]
  },
  {
   "cell_type": "code",
   "execution_count": 12,
   "metadata": {},
   "outputs": [],
   "source": [
    "start = 3\n",
    "end = 6\n",
    "step = 0.2\n",
    "\n",
    "tot_exps = 40\n",
    "num_heur = 3\n",
    "timeout = 10\n",
    "\n",
    "# Calculate running time.\n",
    "tot_time_s = (((end-start)/step)+1) * num_heur * tot_exps * timeout\n",
    "tot_time_h = (tot_time_s / 60) / 60"
   ]
  },
  {
   "cell_type": "code",
   "execution_count": 13,
   "metadata": {},
   "outputs": [
    {
     "data": {
      "text/plain": [
       "5.333333333333333"
      ]
     },
     "execution_count": 13,
     "metadata": {},
     "output_type": "execute_result"
    }
   ],
   "source": [
    "tot_time_h"
   ]
  },
  {
   "cell_type": "code",
   "execution_count": 14,
   "metadata": {},
   "outputs": [],
   "source": [
    "results_100 = run_benchmark(100, start, end, step, timeout, tot_exps,\n",
    "                        [max_unit_choice],\n",
    "                        [random_choice, two_clause_choice, jeroslow_wang_literal_choice])"
   ]
  },
  {
   "cell_type": "code",
   "execution_count": 16,
   "metadata": {},
   "outputs": [],
   "source": [
    "results_100_json = {'results_100': results_100}\n",
    "\n",
    "now = datetime.now()\n",
    "# current_time = now.strftime(\"%H:%M:%S\")\n",
    "current_time = \"0\"\n",
    "\n",
    "filename = \"results_100_\" + current_time + \".txt\" \n",
    "\n",
    "\n",
    "with open(filename, 'w') as file:\n",
    "     file.write(json.dumps(results_100_json)) # use `json.loads` to do the reverse"
   ]
  },
  {
   "cell_type": "code",
   "execution_count": null,
   "metadata": {},
   "outputs": [],
   "source": []
  }
 ],
 "metadata": {
  "kernelspec": {
   "display_name": "Python 3",
   "language": "python",
   "name": "python3"
  },
  "language_info": {
   "codemirror_mode": {
    "name": "ipython",
    "version": 3
   },
   "file_extension": ".py",
   "mimetype": "text/x-python",
   "name": "python",
   "nbconvert_exporter": "python",
   "pygments_lexer": "ipython3",
   "version": "3.8.5"
  }
 },
 "nbformat": 4,
 "nbformat_minor": 4
}
