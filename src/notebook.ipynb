{
 "cells": [
  {
   "cell_type": "code",
   "execution_count": 6,
   "metadata": {},
   "outputs": [],
   "source": [
    "from benchmark import run_benchmark\n",
    "from benchmark import print_results\n",
    "import unit_preference_methods\n",
    "from splitting_methods import first_choice\n",
    "from splitting_methods import random_choice\n",
    "from splitting_methods import two_clause_choice\n"
   ]
  },
  {
   "cell_type": "code",
   "execution_count": 7,
   "metadata": {},
   "outputs": [],
   "source": [
    "results = run_benchmark(100, 3, 6, 0.2, 5, 1,\n",
    "                        [unit_preference_methods.random_choice],\n",
    "                        [two_clause_choice])"
   ]
  },
  {
   "cell_type": "code",
   "execution_count": 9,
   "metadata": {},
   "outputs": [
    {
     "name": "stdout",
     "output_type": "stream",
     "text": [
      "----RESULTS----\n",
      "Ratio: 3.0\n",
      "   Unit Pref: random_choice, Splitting: two_clause_choice:\n",
      "      (0.0456186549999984, 101, True)\n",
      "Ratio: 3.2\n",
      "   Unit Pref: random_choice, Splitting: two_clause_choice:\n",
      "      (0.06313331400087918, 263, True)\n",
      "Ratio: 3.4000000000000004\n",
      "   Unit Pref: random_choice, Splitting: two_clause_choice:\n",
      "      (0.40522097799839685, 2031, True)\n",
      "Ratio: 3.6000000000000005\n",
      "   Unit Pref: random_choice, Splitting: two_clause_choice:\n",
      "      (0.04943027699846425, 225, True)\n",
      "Ratio: 3.8000000000000007\n",
      "   Unit Pref: random_choice, Splitting: two_clause_choice:\n",
      "      (0.1460570090021065, 665, True)\n",
      "Ratio: 4.000000000000001\n",
      "   Unit Pref: random_choice, Splitting: two_clause_choice:\n",
      "      (-1, None, True)\n",
      "Ratio: 4.200000000000001\n",
      "   Unit Pref: random_choice, Splitting: two_clause_choice:\n",
      "      (0.10796425300213741, 455, True)\n",
      "Ratio: 4.400000000000001\n",
      "   Unit Pref: random_choice, Splitting: two_clause_choice:\n",
      "      (0.4295769480013405, 1505, True)\n",
      "Ratio: 4.600000000000001\n",
      "   Unit Pref: random_choice, Splitting: two_clause_choice:\n",
      "      (0.11601727100060089, 419, True)\n",
      "Ratio: 4.800000000000002\n",
      "   Unit Pref: random_choice, Splitting: two_clause_choice:\n",
      "      (3.0695589110000583, 9739, False)\n",
      "Ratio: 5.000000000000002\n",
      "   Unit Pref: random_choice, Splitting: two_clause_choice:\n",
      "      (2.170999084999494, 6593, False)\n",
      "Ratio: 5.200000000000002\n",
      "   Unit Pref: random_choice, Splitting: two_clause_choice:\n",
      "      (2.244328062999557, 6301, False)\n",
      "Ratio: 5.400000000000002\n",
      "   Unit Pref: random_choice, Splitting: two_clause_choice:\n",
      "      (2.6210424109995074, 7253, False)\n",
      "Ratio: 5.600000000000002\n",
      "   Unit Pref: random_choice, Splitting: two_clause_choice:\n",
      "      (0.9219225680026284, 2245, False)\n",
      "Ratio: 5.8000000000000025\n",
      "   Unit Pref: random_choice, Splitting: two_clause_choice:\n",
      "      (1.5814257400015777, 3709, False)\n",
      "Ratio: 6.000000000000003\n",
      "   Unit Pref: random_choice, Splitting: two_clause_choice:\n",
      "      (1.1047481979985605, 2583, False)\n"
     ]
    }
   ],
   "source": [
    "print_results(results)"
   ]
  },
  {
   "cell_type": "code",
   "execution_count": null,
   "metadata": {},
   "outputs": [],
   "source": [
    "print(\"Specific result:\")\n",
    "print()"
   ]
  }
 ],
 "metadata": {
  "kernelspec": {
   "display_name": "Python 3",
   "language": "python",
   "name": "python3"
  },
  "language_info": {
   "codemirror_mode": {
    "name": "ipython",
    "version": 3
   },
   "file_extension": ".py",
   "mimetype": "text/x-python",
   "name": "python",
   "nbconvert_exporter": "python",
   "pygments_lexer": "ipython3",
   "version": "3.8.5"
  }
 },
 "nbformat": 4,
 "nbformat_minor": 4
}
