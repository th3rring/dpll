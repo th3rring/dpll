{
 "cells": [
  {
   "cell_type": "code",
   "execution_count": 16,
   "metadata": {},
   "outputs": [],
   "source": [
    "from itertools import combinations\n",
    "\n",
    "from instance import Instance\n",
    "from sat import solve\n",
    "from splitting_methods import first_choice\n",
    "from splitting_methods import random_choice\n",
    "from splitting_methods import two_clause_choice\n",
    "import unit_preference_methods"
   ]
  },
  {
   "cell_type": "code",
   "execution_count": 17,
   "metadata": {},
   "outputs": [],
   "source": [
    "def negate(literal):\n",
    "    return (literal[1:] if literal.startswith('-') else '-' + literal)"
   ]
  },
  {
   "cell_type": "code",
   "execution_count": 18,
   "metadata": {},
   "outputs": [
    {
     "name": "stdout",
     "output_type": "stream",
     "text": [
      "-horse_3\n"
     ]
    }
   ],
   "source": [
    "# Test negate\n",
    "lit_test = \"horse_3\"\n",
    "print(negate(lit_test))"
   ]
  },
  {
   "cell_type": "code",
   "execution_count": 19,
   "metadata": {},
   "outputs": [],
   "source": [
    "def combine(value, house):\n",
    "    return f'{value}_{house}'"
   ]
  },
  {
   "cell_type": "code",
   "execution_count": 20,
   "metadata": {},
   "outputs": [
    {
     "data": {
      "text/plain": [
       "'horse_4'"
      ]
     },
     "execution_count": 20,
     "metadata": {},
     "output_type": "execute_result"
    }
   ],
   "source": [
    "# Test combine\n",
    "combine(\"horse\", 4)"
   ]
  },
  {
   "cell_type": "code",
   "execution_count": 21,
   "metadata": {},
   "outputs": [],
   "source": [
    "def one_of(literals):\n",
    "    return list(combinations(map(negate, literals), 2)) + list(combinations(literals, len(literals)))"
   ]
  },
  {
   "cell_type": "code",
   "execution_count": 22,
   "metadata": {},
   "outputs": [
    {
     "name": "stdout",
     "output_type": "stream",
     "text": [
      "[('-horse_0', '-horse_1'), ('-horse_0', '-horse_2'), ('-horse_0', '-horse_3'), ('-horse_0', '-horse_4'), ('-horse_1', '-horse_2'), ('-horse_1', '-horse_3'), ('-horse_1', '-horse_4'), ('-horse_2', '-horse_3'), ('-horse_2', '-horse_4'), ('-horse_3', '-horse_4'), ('horse_0', 'horse_1', 'horse_2', 'horse_3', 'horse_4')]\n"
     ]
    }
   ],
   "source": [
    "# Test one of\n",
    "lits_0 = [\"horse_0\", \"horse_1\", \"horse_2\", \"horse_3\", \"horse_4\"]\n",
    "print(one_of(lits_0))"
   ]
  },
  {
   "cell_type": "code",
   "execution_count": 23,
   "metadata": {},
   "outputs": [],
   "source": [
    "def dnf_to_cnf(dnf):\n",
    "\n",
    "    # We use frozensets to allow for sets to be hashed.\n",
    "    # We want to use sets so we can create clauses without duplicate literals.\n",
    "    cnf = {frozenset()}\n",
    "    \n",
    "    # Iterate over all dnf clauses.\n",
    "    for and_clause in dnf:\n",
    "        \n",
    "        # Add new terms to each clause, check they're not unsat as we do it.\n",
    "        cnf = {or_clause | set([literal]) for literal in and_clause for or_clause in cnf\n",
    "              if negate(literal) not in or_clause}\n",
    "        \n",
    "        # Remove unnecessary terms\n",
    "        shortest_clause = min(cnf, key=len)          \n",
    "        cnf -= {or_clause for or_clause in cnf if or_clause > shortest_clause}\n",
    "        \n",
    "    # Return a list of tuples of clauses.\n",
    "    return list(map(tuple, cnf))"
   ]
  },
  {
   "cell_type": "code",
   "execution_count": 24,
   "metadata": {},
   "outputs": [
    {
     "name": "stdout",
     "output_type": "stream",
     "text": [
      "[('-c', 'b'), ('a', '-c'), ('a', '-b'), ('-b', 'c')]\n"
     ]
    }
   ],
   "source": [
    "# Test dnf to cnf conversion\n",
    "dnf_test = [(\"a\", \"b\", \"c\"), (\"-b\", \"-c\")]\n",
    "print(dnf_to_cnf(dnf_test))"
   ]
  },
  {
   "cell_type": "code",
   "execution_count": 25,
   "metadata": {},
   "outputs": [],
   "source": [
    "def cnf_to_string(cnf):\n",
    "    \n",
    "    # Convert a list, tuple format to string format.\n",
    "    cnf_str = \"\"\n",
    "    \n",
    "    for clause in cnf:\n",
    "        clause_str = \"\"\n",
    "        for lit in clause:\n",
    "            clause_str += str(lit) + \" \"\n",
    "        cnf_str += clause_str + \"\\n\"\n",
    "    return cnf_str"
   ]
  },
  {
   "cell_type": "code",
   "execution_count": 26,
   "metadata": {},
   "outputs": [],
   "source": [
    "# List of house indices\n",
    "houses = ['1', '2', '3', '4', '5']\n",
    "\n",
    "# Functions to express puzzle dependencies\n",
    "def found_at(value, house):\n",
    "    return [(combine(value, house),)]\n",
    "\n",
    "def same(a, b):\n",
    "    return dnf_to_cnf([(combine(a, i), combine(b, i)) for i in houses])\n",
    "\n",
    "def next_to(a, b):\n",
    "    return dnf_to_cnf([(combine(a, i), combine(b, j)) for i, j in zip(houses, houses[1:])])\n",
    "\n",
    "def either_side(a, b):\n",
    "    return dnf_to_cnf([(combine(a, i), combine(b, j)) for i, j in zip(houses, houses[1:])] +\n",
    "                    [(combine(b, i), combine(a, j)) for i, j in zip(houses, houses[1:])])\n",
    "                    "
   ]
  },
  {
   "cell_type": "code",
   "execution_count": 27,
   "metadata": {},
   "outputs": [],
   "source": [
    "groups = [\n",
    "             ['dane',      'brit',   'swede',       'norwegian', 'german'   ],\n",
    "             ['yellow',    'red',    'white',       'green',     'blue'     ],\n",
    "             ['horse',     'cat',    'bird',        'fish',      'dog'      ],\n",
    "             ['water',     'tea',    'milk',        'coffee',    'root_beer'],\n",
    "             ['pall_mall', 'prince', 'blue_master', 'dunhill',   'blends'   ],\n",
    "]\n",
    "\n",
    "values = [value for group in groups for value in group]"
   ]
  },
  {
   "cell_type": "code",
   "execution_count": 28,
   "metadata": {},
   "outputs": [],
   "source": [
    "cnf = []\n",
    "\n",
    "# Each house gets exactly one value from each attribute group.\n",
    "for house in houses:\n",
    "    for group in groups:\n",
    "        cnf += one_of([combine(value, house) for value in group])\n",
    "\n",
    "# Each value gets assigned to exactly one house.\n",
    "for value in values:\n",
    "    cnf += one_of([combine(value, house) for house in houses])\n",
    "\n",
    "# Encode the problem from the project document.\n",
    "cnf += same('brit', 'red')\n",
    "cnf += same('swede', 'dog')\n",
    "cnf += same('dane', 'tea')\n",
    "cnf += next_to('green', 'white')\n",
    "cnf += same('green', 'coffee')\n",
    "cnf += same('pall_mall', 'bird')\n",
    "cnf += same('yellow', 'dunhill')\n",
    "cnf += found_at('milk', 3)\n",
    "cnf += found_at('norwegian', 1)\n",
    "cnf += either_side('blends', 'cat')\n",
    "cnf += either_side('horse', 'dunhill')\n",
    "cnf += same('blue_master', 'root_beer')\n",
    "cnf += same('german', 'prince')\n",
    "cnf += either_side('norwegian', 'blue')\n",
    "cnf += either_side('blends', 'water')"
   ]
  },
  {
   "cell_type": "code",
   "execution_count": 29,
   "metadata": {},
   "outputs": [],
   "source": [
    "instance = Instance()\n",
    "\n",
    "problem = cnf_to_string(cnf)\n",
    "instance.parse_problem(problem)\n",
    "instance.setup_watchlist()\n",
    "\n",
    "assignment = [None] * len(instance.variables)\n",
    "\n",
    "# Solve this problem with two_clause splitting heuristic.\n",
    "sol, _ = solve(instance, assignment, two_clause_choice,\n",
    "               unit_preference_methods.random_choice, False)\n",
    "\n",
    "true_vars = [instance.variables[i].name for i in range(len(sol)) if sol[i]]"
   ]
  },
  {
   "cell_type": "code",
   "execution_count": 30,
   "metadata": {},
   "outputs": [
    {
     "data": {
      "text/plain": [
       "['norwegian_1',\n",
       " 'yellow_1',\n",
       " 'cat_1',\n",
       " 'water_1',\n",
       " 'dunhill_1',\n",
       " 'dane_2',\n",
       " 'blue_2',\n",
       " 'horse_2',\n",
       " 'tea_2',\n",
       " 'blends_2',\n",
       " 'brit_3',\n",
       " 'red_3',\n",
       " 'bird_3',\n",
       " 'milk_3',\n",
       " 'pall_mall_3',\n",
       " 'german_4',\n",
       " 'green_4',\n",
       " 'fish_4',\n",
       " 'coffee_4',\n",
       " 'prince_4',\n",
       " 'swede_5',\n",
       " 'white_5',\n",
       " 'dog_5',\n",
       " 'root_beer_5',\n",
       " 'blue_master_5']"
      ]
     },
     "execution_count": 30,
     "metadata": {},
     "output_type": "execute_result"
    }
   ],
   "source": [
    "true_vars"
   ]
  },
  {
   "cell_type": "code",
   "execution_count": null,
   "metadata": {},
   "outputs": [],
   "source": []
  }
 ],
 "metadata": {
  "kernelspec": {
   "display_name": "Python 3",
   "language": "python",
   "name": "python3"
  },
  "language_info": {
   "codemirror_mode": {
    "name": "ipython",
    "version": 3
   },
   "file_extension": ".py",
   "mimetype": "text/x-python",
   "name": "python",
   "nbconvert_exporter": "python",
   "pygments_lexer": "ipython3",
   "version": "3.8.5"
  }
 },
 "nbformat": 4,
 "nbformat_minor": 4
}
